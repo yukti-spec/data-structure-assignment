{
  "nbformat": 4,
  "nbformat_minor": 0,
  "metadata": {
    "colab": {
      "provenance": []
    },
    "kernelspec": {
      "name": "python3",
      "display_name": "Python 3"
    },
    "language_info": {
      "name": "python"
    }
  },
  "cells": [
    {
      "cell_type": "markdown",
      "source": [
        "Question.1  Discuss string slicing and provide examples.\n",
        "\n",
        "Ans:   String slicing is a technique in programming that allows you to extract a portion of a string based on specified start and end indices. In Python, you can slice strings using the syntax.\n",
        "\n",
        "string[start:end:step]\n",
        "\n",
        "Example:-"
      ],
      "metadata": {
        "id": "fbiTY5CezlWL"
      }
    },
    {
      "cell_type": "code",
      "source": [
        "intro = \"My name is x and i live in y city.I am a student of class z.\"\n",
        "print(len(intro))\n",
        "print(intro[0:40])"
      ],
      "metadata": {
        "colab": {
          "base_uri": "https://localhost:8080/"
        },
        "id": "d6vwsMXUgCMf",
        "outputId": "cd5a7cf0-61a9-429b-b5ff-355b8ae13ed3"
      },
      "execution_count": 4,
      "outputs": [
        {
          "output_type": "stream",
          "name": "stdout",
          "text": [
            "60\n",
            "My name is x and i live in y city.I am a\n"
          ]
        }
      ]
    },
    {
      "cell_type": "markdown",
      "source": [
        "Note:- In above example we have a string of 60 lenth and we tried to extract a part of string that is from index 0 to index 40 index."
      ],
      "metadata": {
        "id": "gzVFm6epg65O"
      }
    },
    {
      "cell_type": "markdown",
      "source": [
        " Question2.  Explain the key features of lists in Python.\n",
        "\n",
        " Ans:   Lists in Python are a fundamental data structure that allows you to store and manipulate an ordered collection of items.\n",
        "\n",
        " Here are the key features of lists:\n",
        "\n",
        " 1. Ordered:- Lists maintain the order of elements. The position of elements in a list remains fixed unless explicitly changed.\n",
        "\n",
        " 2. Mutable:-  Lists can be modified after creation. You can add, remove, or update elements.\n",
        "\n",
        " 3. Dynamic:-  Lists can grow or shrink in size as needed, allowing addition and removal of elements dynamically.\n",
        "\n",
        " 4. Heterogeneous:-  Lists can store elements of different data types (e.g., integers, strings, floats, or even other lists).\n",
        "\n",
        " 5. Indexed:-  Lists support indexing and slicing to access elements or subsets of elements.\n",
        "\n",
        " 6. Iterable:-  Lists can be iterated over using loops or comprehensions.\n",
        "\n",
        " 7. Built-in Methods:-  Python provides a variety of methods to work with lists:\n",
        "\n",
        "    append(): Adds an item to the end.\n",
        "\n",
        "    insert(): Inserts an item at a specific position.\n",
        "\n",
        "    pop(): Removes and returns an item at a given position.\n",
        "\n",
        "    remove(): Removes the first occurrence of a value.\n",
        "\n",
        "    sort(): Sorts the list in place.\n",
        "\n",
        "    reverse(): Reverses the order of the list.\n"
      ],
      "metadata": {
        "id": "uYsikZ8Kh72E"
      }
    },
    {
      "cell_type": "markdown",
      "source": [
        "Question3.  Describe how to access, modify, and delete elements in a list with examples.\n",
        "\n",
        "Ans:  These are the some examples:-\n",
        "\n",
        "1. Accessing Elements-   \n",
        "We can access the index with the help of indexing and slicing.\n",
        "\n",
        "Exemple:-\n",
        "\n"
      ],
      "metadata": {
        "id": "_Yd93BMJkawU"
      }
    },
    {
      "cell_type": "code",
      "source": [
        "list = [1, 2, 3, \"name\",34.9,\"city\"]\n",
        "print(list[2])\n",
        "print(list[0:4])"
      ],
      "metadata": {
        "colab": {
          "base_uri": "https://localhost:8080/"
        },
        "id": "-qGKI6XvlwaN",
        "outputId": "7e36eb28-8e69-4dd3-e51c-2832ecd58402"
      },
      "execution_count": 7,
      "outputs": [
        {
          "output_type": "stream",
          "name": "stdout",
          "text": [
            "3\n",
            "[1, 2, 3, 'name']\n"
          ]
        }
      ]
    },
    {
      "cell_type": "markdown",
      "source": [
        "2. Modifying Elements-   \n",
        "We can modify a list element directly using indexing or update multiple elements using slicing.\n",
        "\n",
        "Example:-"
      ],
      "metadata": {
        "id": "pjtBEsKRmYYT"
      }
    },
    {
      "cell_type": "code",
      "source": [
        "list = [1, 2, 3, \"name\",34.9,\"city\"]\n",
        "list[0] = 98\n",
        "list[1:4] = 78.9 , 45\n",
        "print(list)"
      ],
      "metadata": {
        "colab": {
          "base_uri": "https://localhost:8080/"
        },
        "id": "YjlUN4LPmu-_",
        "outputId": "83ef48e9-09b1-4d39-8248-0da56b065d04"
      },
      "execution_count": 12,
      "outputs": [
        {
          "output_type": "stream",
          "name": "stdout",
          "text": [
            "[98, 78.9, 45, 34.9, 'city']\n"
          ]
        }
      ]
    },
    {
      "cell_type": "markdown",
      "source": [
        "Also we can modify the elements using list methods"
      ],
      "metadata": {
        "id": "zfJ4trz6o1Hh"
      }
    },
    {
      "cell_type": "code",
      "source": [
        "list = [1, 2, 3, \"name\",34.9,\"city\"]\n",
        "list.append(\"introduction\")\n",
        "list.insert(1 , \"enter your age\")\n",
        "print(list)"
      ],
      "metadata": {
        "colab": {
          "base_uri": "https://localhost:8080/"
        },
        "id": "Tfde1VzzpB5e",
        "outputId": "830d9d9e-b865-404e-9480-33db9d479b55"
      },
      "execution_count": 13,
      "outputs": [
        {
          "output_type": "stream",
          "name": "stdout",
          "text": [
            "[1, 'enter your age', 2, 3, 'name', 34.9, 'city', 'introduction']\n"
          ]
        }
      ]
    },
    {
      "cell_type": "markdown",
      "source": [
        "3. Deleting Elements-  \n",
        "We can remove elements using del, pop(), or remove().\n",
        "\n",
        "Example:-  "
      ],
      "metadata": {
        "id": "LNL8B_mNpvIE"
      }
    },
    {
      "cell_type": "code",
      "source": [
        "name = [\"x\",\"y\",\"z\",\"a\",\"b\",\"c\"]\n",
        "del name[2]\n",
        "name.pop()\n",
        "name.remove(\"a\")\n",
        "print(name)"
      ],
      "metadata": {
        "colab": {
          "base_uri": "https://localhost:8080/"
        },
        "id": "jjgFXHUUqChL",
        "outputId": "37005336-35cd-4b10-9393-3bc3337e384c"
      },
      "execution_count": 15,
      "outputs": [
        {
          "output_type": "stream",
          "name": "stdout",
          "text": [
            "['x', 'y', 'b']\n"
          ]
        }
      ]
    },
    {
      "cell_type": "markdown",
      "source": [
        "Question4.  Compare and contrast tuples and lists with examples.\n",
        "\n",
        "Ans:   Tuples and lists are both data structures in Python used to store collections of elements. However, they have significant differences in their properties and use cases. Here's a detailed comparison:\n",
        "\n",
        "1. Mutability\n",
        "\n",
        "Lists:  \n",
        "Mutable; elements can be added, removed, or modified.\n",
        "\n",
        "Tuples:  \n",
        "Immutable; elements cannot be changed once defined.\n",
        "\n",
        "Example:-"
      ],
      "metadata": {
        "id": "AZ1esD5irc__"
      }
    },
    {
      "cell_type": "code",
      "source": [
        "list = [1, 2, 9, 16, 25, 36]\n",
        "list[1] = 4\n",
        "print(list)\n",
        "\n",
        "tuple = (1, 2, 9, 16, 25, 36)\n",
        "tuple[1] = 4\n",
        "print(tuple)\n"
      ],
      "metadata": {
        "colab": {
          "base_uri": "https://localhost:8080/",
          "height": 211
        },
        "id": "5gP_8WzYsXe6",
        "outputId": "249e06af-b03b-4aa0-f16b-003465b2b040"
      },
      "execution_count": 17,
      "outputs": [
        {
          "output_type": "stream",
          "name": "stdout",
          "text": [
            "[1, 4, 9, 16, 25, 36]\n"
          ]
        },
        {
          "output_type": "error",
          "ename": "TypeError",
          "evalue": "'tuple' object does not support item assignment",
          "traceback": [
            "\u001b[0;31m---------------------------------------------------------------------------\u001b[0m",
            "\u001b[0;31mTypeError\u001b[0m                                 Traceback (most recent call last)",
            "\u001b[0;32m<ipython-input-17-34549770bb67>\u001b[0m in \u001b[0;36m<cell line: 6>\u001b[0;34m()\u001b[0m\n\u001b[1;32m      4\u001b[0m \u001b[0;34m\u001b[0m\u001b[0m\n\u001b[1;32m      5\u001b[0m \u001b[0mtuple\u001b[0m \u001b[0;34m=\u001b[0m \u001b[0;34m(\u001b[0m\u001b[0;36m1\u001b[0m\u001b[0;34m,\u001b[0m \u001b[0;36m2\u001b[0m\u001b[0;34m,\u001b[0m \u001b[0;36m9\u001b[0m\u001b[0;34m,\u001b[0m \u001b[0;36m16\u001b[0m\u001b[0;34m,\u001b[0m \u001b[0;36m25\u001b[0m\u001b[0;34m,\u001b[0m \u001b[0;36m36\u001b[0m\u001b[0;34m)\u001b[0m\u001b[0;34m\u001b[0m\u001b[0;34m\u001b[0m\u001b[0m\n\u001b[0;32m----> 6\u001b[0;31m \u001b[0mtuple\u001b[0m\u001b[0;34m[\u001b[0m\u001b[0;36m1\u001b[0m\u001b[0;34m]\u001b[0m \u001b[0;34m=\u001b[0m \u001b[0;36m4\u001b[0m\u001b[0;34m\u001b[0m\u001b[0;34m\u001b[0m\u001b[0m\n\u001b[0m\u001b[1;32m      7\u001b[0m \u001b[0mprint\u001b[0m\u001b[0;34m(\u001b[0m\u001b[0mtuple\u001b[0m\u001b[0;34m)\u001b[0m\u001b[0;34m\u001b[0m\u001b[0;34m\u001b[0m\u001b[0m\n",
            "\u001b[0;31mTypeError\u001b[0m: 'tuple' object does not support item assignment"
          ]
        }
      ]
    },
    {
      "cell_type": "markdown",
      "source": [
        "Note: In above examples of both list and tuple, we tried to modify the both list and tuple , but we abled to modify the list only not the tuple it throwed the error.\n",
        "\n",
        "2. Syntax\n",
        "\n",
        "Lists: Defined using square brackets [ ].\n",
        "\n",
        "Tuples: Defined using parentheses ( ).\n",
        "\n",
        "Exemple:-"
      ],
      "metadata": {
        "id": "P1MDaagGtVjr"
      }
    },
    {
      "cell_type": "code",
      "source": [
        "list = [1, 2, 3, 4, 5]\n",
        "tuple = (1, 2, 3, 4, 5)"
      ],
      "metadata": {
        "id": "W7hsONceulL4"
      },
      "execution_count": null,
      "outputs": []
    },
    {
      "cell_type": "markdown",
      "source": [
        "Question5.  Describe the key features of sets and provide examples of their use.\n",
        "\n",
        "Ans:   A set in Python is a collection data type that is unordered, mutable, and contains only unique elements. Sets are useful for operations involving membership testing, removing duplicates, and performing mathematical operations like union and intersection.\n",
        "\n",
        "Key Features of Sets:\n",
        "\n",
        "1. Unordered\n",
        "\n",
        "Elements in a set do not have a defined order, and their positions can change.\n",
        "\n",
        "There is no indexing or slicing.\n",
        "\n",
        "2. Unique Elements\n",
        "\n",
        "Sets automatically remove duplicate values.\n",
        "\n",
        "3. Mutable\n",
        "\n",
        "Sets can be modified by adding or removing elements.\n",
        "\n",
        "4. Heterogeneous\n",
        "\n",
        "Set can store elements of different data types (e.g., integers, strings, floats).\n",
        "\n",
        "Example:-\n",
        "\n",
        "\n",
        "\n",
        "\n"
      ],
      "metadata": {
        "id": "Fxnwffj9vxqn"
      }
    },
    {
      "cell_type": "code",
      "source": [
        "set = {1, 2, 3.45, \"name\", \"city\", 1, 2, 3.45}\n",
        "print(set)"
      ],
      "metadata": {
        "colab": {
          "base_uri": "https://localhost:8080/"
        },
        "id": "ZWiKKnzWxdMU",
        "outputId": "fe559aa0-c3a6-41d4-9774-41b632187d48"
      },
      "execution_count": 20,
      "outputs": [
        {
          "output_type": "stream",
          "name": "stdout",
          "text": [
            "{1, 2, 3.45, 'name', 'city'}\n"
          ]
        }
      ]
    },
    {
      "cell_type": "markdown",
      "source": [
        "Question 6.  Discuss the use cases of tuples and sets in Python programming.\n",
        "\n",
        "Ans:  Use Cases of Tuples and Sets in Python\n",
        "Both tuples and sets are integral data structures in Python, each with unique characteristics that suit specific use cases. Here’s a detailed look:\n",
        "\n",
        "1. Use Cases of Tuples\n",
        "\n",
        "A tuple is an immutable, ordered collection of elements. It is ideal for scenarios where data should not change after creation.\n",
        "\n",
        "a) Representing Fixed Data\n",
        "\n",
        "Tuples are commonly used for storing fixed sets of values like coordinates, database records.\n",
        "\n",
        "b) Dictionary Keys\n",
        "\n",
        "Tuples are hashable and can be used as keys in dictionaries (unlike lists, which are unhashable).\n",
        "\n",
        "2. Use Cases of Sets\n",
        "\n",
        "A set is an unordered, mutable collection of unique elements. It is best for operations involving uniqueness, membership testing, and mathematical operations.\n",
        "\n",
        "a) Removing Duplicates\n",
        "\n",
        "Sets automatically eliminate duplicate elements, making them ideal for cleaning up datasets.\n",
        "\n",
        "b) Membership Testing\n",
        "\n",
        "Sets are optimized for fast membership tests due to their hashing mechanism.\n",
        "\n",
        "c) Mathematical Set Operations\n",
        "\n",
        "Sets provide built-in methods for operations like union, intersection, and difference."
      ],
      "metadata": {
        "id": "79gAml79y_jl"
      }
    },
    {
      "cell_type": "markdown",
      "source": [
        "Question 7.  Describe how to add, modify, and delete items in a dictionary with examples.\n",
        "\n",
        "Ans:   A dictionary in Python is a collection of key-value pairs, where each key is unique. You can add, modify, and delete items in a dictionary using specific methods and syntax.\n",
        "\n",
        "1. Adding Items\n",
        "\n",
        "You can add items to a dictionary by specifying a new key and assigning it a value.\n",
        "\n",
        "a) Adding a New Key-Value Pair\n",
        "\n",
        "b) Using update() Method\n",
        "\n",
        "The update() method allows you to add multiple key-value pairs at once.\n",
        "\n",
        "Example:-\n",
        "\n"
      ],
      "metadata": {
        "id": "SxxxXPsi3DMt"
      }
    },
    {
      "cell_type": "code",
      "source": [
        "dict = { \"cat\": \"animal\",\n",
        "         \"dog\": \"animal\",\n",
        "        \"porrot\": \"bird\",\n",
        "         \"lion\": \"wild animal\",\n",
        "         \"cow\": \"pet animal\"\n",
        "        }\n",
        "dict[\"men\"] =  \"human\"\n",
        "dict.update({\"women\" : \"human\",\"child\" : \"human\"})\n",
        "print(dict)\n"
      ],
      "metadata": {
        "colab": {
          "base_uri": "https://localhost:8080/"
        },
        "id": "PVi7RvR14AWU",
        "outputId": "a46b30f6-0256-4e49-ff26-43b18821d7df"
      },
      "execution_count": 25,
      "outputs": [
        {
          "output_type": "stream",
          "name": "stdout",
          "text": [
            "{'cat': 'animal', 'dog': 'animal', 'porrot': 'bird', 'lion': 'wild animal', 'cow': 'pet animal', 'men': 'human', 'women': 'human', 'child': 'human'}\n"
          ]
        }
      ]
    },
    {
      "cell_type": "markdown",
      "source": [
        "2. Modifying Items\n",
        "\n",
        "You can modify an existing item by accessing its key and assigning a new value.\n",
        "\n",
        "Example:-\n",
        "\n"
      ],
      "metadata": {
        "id": "YieYTdMQ6YH0"
      }
    },
    {
      "cell_type": "code",
      "source": [
        "dict = { \"cat\": \"animal\",\n",
        "         \"dog\": \"animal\",\n",
        "        \"porrot\": \"bird\",\n",
        "         \"lion\": \"wild animal\",\n",
        "         \"cow\": \"pet animal\"\n",
        "        }\n",
        "dict[\"cat\"] = \"domestic animal\"\n",
        "print(dict)"
      ],
      "metadata": {
        "colab": {
          "base_uri": "https://localhost:8080/"
        },
        "id": "Th2RSLaI6-Fo",
        "outputId": "9b602158-a41e-4df4-cc94-3f086fb20b92"
      },
      "execution_count": 26,
      "outputs": [
        {
          "output_type": "stream",
          "name": "stdout",
          "text": [
            "{'cat': 'domestic animal', 'dog': 'animal', 'porrot': 'bird', 'lion': 'wild animal', 'cow': 'pet animal'}\n"
          ]
        }
      ]
    },
    {
      "cell_type": "markdown",
      "source": [
        "3. Deleting Items\n",
        "\n",
        "You can delete items in a dictionary using the del statement and  pop() method.\n",
        "\n",
        "a) Using the del Statement\n",
        "\n",
        "The del statement removes a key-value pair by specifying the key.\n",
        "\n",
        "Exampe:-"
      ],
      "metadata": {
        "id": "-7NEYd0O7Zne"
      }
    },
    {
      "cell_type": "code",
      "source": [
        "dict = { \"cat\": \"animal\",\n",
        "         \"dog\": \"animal\",\n",
        "        \"porrot\": \"bird\",\n",
        "         \"lion\": \"wild animal\",\n",
        "         \"cow\": \"pet animal\"\n",
        "        }\n",
        "print(dict)\n",
        "del dict[\"dog\"]\n",
        "print(dict)"
      ],
      "metadata": {
        "colab": {
          "base_uri": "https://localhost:8080/"
        },
        "id": "3vzOXd_X7tAS",
        "outputId": "8ba0b710-155a-4d3e-b1f0-14f8a75b4d90"
      },
      "execution_count": 28,
      "outputs": [
        {
          "output_type": "stream",
          "name": "stdout",
          "text": [
            "{'cat': 'animal', 'dog': 'animal', 'porrot': 'bird', 'lion': 'wild animal', 'cow': 'pet animal'}\n",
            "{'cat': 'animal', 'porrot': 'bird', 'lion': 'wild animal', 'cow': 'pet animal'}\n"
          ]
        }
      ]
    },
    {
      "cell_type": "markdown",
      "source": [
        "b) Using pop() Method\n",
        "\n",
        "The pop() method removes a key-value pair and returns the value of the removed key.\n",
        "\n",
        "Example:-"
      ],
      "metadata": {
        "id": "KeoQXnl98Q5X"
      }
    },
    {
      "cell_type": "code",
      "source": [
        "dict = { \"cat\": \"animal\",\n",
        "         \"dog\": \"animal\",\n",
        "        \"porrot\": \"bird\",\n",
        "         \"lion\": \"wild animal\",\n",
        "         \"cow\": \"pet animal\"\n",
        "        }\n",
        "dict.pop(\"porrot\")\n",
        "print(dict)"
      ],
      "metadata": {
        "colab": {
          "base_uri": "https://localhost:8080/"
        },
        "id": "gP9UsRoO8XvT",
        "outputId": "764a089f-181a-4ea0-8727-fe1118a4a64d"
      },
      "execution_count": 29,
      "outputs": [
        {
          "output_type": "stream",
          "name": "stdout",
          "text": [
            "{'cat': 'animal', 'dog': 'animal', 'lion': 'wild animal', 'cow': 'pet animal'}\n"
          ]
        }
      ]
    },
    {
      "cell_type": "markdown",
      "source": [
        " Question 8.  Discuss the importance of dictionary keys being immutable and provide example.\n",
        "\n",
        " Ans:  Importance of Dictionary Keys Being Immutable\n",
        "In Python, dictionary keys must be immutable because they are used in a hashing mechanism to store and retrieve values efficiently. The immutability ensures that the hash value of a key remains constant throughout its lifetime. If keys were mutable, any change to the key would corrupt the internal hash table structure, leading to incorrect lookups or runtime errors.\n",
        "\n",
        "\n",
        "Key Points About Immutable Keys\n",
        "Hashable Objects Only:\n",
        "Dictionary keys must be hashable. Immutable types like integers, strings, and tuples (containing only immutable elements) are hashable and can be used as keys.\n",
        "\n",
        "Key Points About Immutable Keys\n",
        "\n",
        "1. Hashable Objects Only:\n",
        "\n",
        "Dictionary keys must be hashable. Immutable types like integers, strings, and tuples (containing only immutable elements) are hashable and can be used as keys.\n",
        "\n",
        "2. No Lists or Sets as Keys:\n",
        "\n",
        "Mutable types like lists, sets, or other dictionaries cannot be used as keys because they are not hashable.\n",
        "\n",
        "3. Consistency in Lookups:\n",
        "\n",
        "Using immutable keys ensures the dictionary’s integrity and reliable access to stored values.\n",
        "\n"
      ],
      "metadata": {
        "id": "gtOJCpwi80BL"
      }
    }
  ]
}